{
 "cells": [
  {
   "cell_type": "code",
   "execution_count": 2,
   "id": "61980fda-be99-4f78-aa2a-5b9d7939ec56",
   "metadata": {
    "tags": []
   },
   "outputs": [],
   "source": [
    "# Data Science Tools and Ecosystem"
   ]
  },
  {
   "cell_type": "markdown",
   "id": "da182b08-7f80-4021-b38a-eab441304468",
   "metadata": {},
   "source": [
    "In this notebook, Data Science Tools and Ecosystem are summarized."
   ]
  },
  {
   "cell_type": "markdown",
   "id": "56329fea-3364-40db-8d63-207338b6ca4c",
   "metadata": {},
   "source": [
    "**Objectives:**\n",
    "\n",
    "- List popular programming languages for Data Science, such as Python, R, and SQL\n",
    "- Identify commonly used libraries in Data Science, such as Pandas, NumPy, Matplotlib\n",
    "- Present examples of open-source tools for Data Science, such as Jupyter Notebook\n",
    "- Demonstrate basic arithmetic operations and unit conversions in Python\n",
    "- Show how to do simple math and convert units in Python\n",
    "- Share Jupyter Notebooks through GitHub for collaboration"
   ]
  },
  {
   "cell_type": "markdown",
   "id": "667da633-8fc8-41d7-acf3-5b63cef0a70b",
   "metadata": {},
   "source": [
    "Some of the popular languages that Data Scientists use are:\n",
    "\n",
    "1. Python\n",
    "2. R\n",
    "3. SQL\n",
    "4. Julia"
   ]
  },
  {
   "cell_type": "markdown",
   "id": "960bd90b-219d-48c4-9dea-60d90fee2486",
   "metadata": {},
   "source": [
    "Some of the commonly used libraries used by Data Scientists include:\n",
    "\n",
    "1. Pandas\n",
    "2. NumPy\n",
    "3. Matplotlib\n",
    "4. TensorFlow"
   ]
  },
  {
   "cell_type": "markdown",
   "id": "495b7744-f34a-4c93-a86a-7dd5e6ce9981",
   "metadata": {
    "tags": []
   },
   "source": [
    "| Data Science Tools       |\n",
    "|--------------------------|\n",
    "| Jupyter Notebook         |\n",
    "| RStudio                  |\n",
    "| Apache Spark          |"
   ]
  },
  {
   "cell_type": "markdown",
   "id": "ebe2df9c-19df-4237-882e-cdfe3ce5ad0a",
   "metadata": {},
   "source": [
    "### Below are a few examples of evaluating arithmetic expressions in Python."
   ]
  },
  {
   "cell_type": "markdown",
   "id": "db3034d3-f95a-4002-b39a-17544f1966e9",
   "metadata": {},
   "source": [
    "This is a simple arithmetic expression to multiply then add integers"
   ]
  },
  {
   "cell_type": "code",
   "execution_count": 8,
   "id": "1892adad-77b6-4e22-8a84-4624db836ec4",
   "metadata": {
    "tags": []
   },
   "outputs": [
    {
     "data": {
      "text/plain": [
       "17"
      ]
     },
     "execution_count": 8,
     "metadata": {},
     "output_type": "execute_result"
    }
   ],
   "source": [
    "(3 * 4) + 5"
   ]
  },
  {
   "cell_type": "markdown",
   "id": "9747a24b-dad3-4ea5-93ec-ba41d3a2fb77",
   "metadata": {},
   "source": [
    "This will convert 200 minutes to hours by dividing by 60"
   ]
  },
  {
   "cell_type": "code",
   "execution_count": 9,
   "id": "eebc5f94-5b6b-46d1-b6e1-69b834985090",
   "metadata": {
    "tags": []
   },
   "outputs": [
    {
     "data": {
      "text/plain": [
       "3.3333333333333335"
      ]
     },
     "execution_count": 9,
     "metadata": {},
     "output_type": "execute_result"
    }
   ],
   "source": [
    "200 / 60"
   ]
  },
  {
   "cell_type": "markdown",
   "id": "15965d23-88b2-461a-8e43-a39370e4cd3e",
   "metadata": {},
   "source": [
    "## Author\n",
    "Marcin Malinowski"
   ]
  },
  {
   "cell_type": "code",
   "execution_count": null,
   "id": "773c464b-df3b-4c88-86cf-b046169cb59e",
   "metadata": {},
   "outputs": [],
   "source": []
  }
 ],
 "metadata": {
  "kernelspec": {
   "display_name": "Python",
   "language": "python",
   "name": "conda-env-python-py"
  },
  "language_info": {
   "codemirror_mode": {
    "name": "ipython",
    "version": 3
   },
   "file_extension": ".py",
   "mimetype": "text/x-python",
   "name": "python",
   "nbconvert_exporter": "python",
   "pygments_lexer": "ipython3",
   "version": "3.7.12"
  }
 },
 "nbformat": 4,
 "nbformat_minor": 5
}
